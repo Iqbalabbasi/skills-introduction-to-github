{
  "nbformat": 4,
  "nbformat_minor": 0,
  "metadata": {
    "colab": {
      "provenance": [],
      "name": "Class_3 .ipynb",
      "authorship_tag": "ABX9TyNK3B7Czittb9/arD7ovDTW",
      "include_colab_link": true
    },
    "kernelspec": {
      "name": "python3",
      "display_name": "Python 3"
    },
    "language_info": {
      "name": "python"
    }
  },
  "cells": [
    {
      "cell_type": "markdown",
      "metadata": {
        "id": "view-in-github",
        "colab_type": "text"
      },
      "source": [
        "<a href=\"https://colab.research.google.com/github/Iqbalabbasi/skills-introduction-to-github/blob/main/Class_3_.ipynb\" target=\"_parent\"><img src=\"https://colab.research.google.com/assets/colab-badge.svg\" alt=\"Open In Colab\"/></a>"
      ]
    },
    {
      "cell_type": "code",
      "execution_count": 20,
      "metadata": {
        "colab": {
          "base_uri": "https://localhost:8080/"
        },
        "id": "PLO7wfFu60ac",
        "outputId": "b90d82bf-fb1a-418c-d526-215f5fb0c3c1"
      },
      "outputs": [
        {
          "output_type": "stream",
          "name": "stdout",
          "text": [
            "405\n",
            "101250\n"
          ]
        }
      ],
      "source": [
        "total_faculty = 4\n",
        "total_admin = 4\n",
        "total_students = 400\n",
        "absent_member = 3\n",
        "per_person_rabri_gm = 250\n",
        "print(total_faculty + total_admin - absent_member + total_students)\n",
        "total_member = 405\n",
        "print(total_member * per_person_rabri_gm)"
      ]
    }
  ]
}