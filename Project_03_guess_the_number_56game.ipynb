{
  "nbformat": 4,
  "nbformat_minor": 0,
  "metadata": {
    "colab": {
      "provenance": [],
      "authorship_tag": "ABX9TyNRhKhcyr2HGbAahrUrqrAQ",
      "include_colab_link": true
    },
    "kernelspec": {
      "name": "python3",
      "display_name": "Python 3"
    },
    "language_info": {
      "name": "python"
    }
  },
  "cells": [
    {
      "cell_type": "markdown",
      "metadata": {
        "id": "view-in-github",
        "colab_type": "text"
      },
      "source": [
        "<a href=\"https://colab.research.google.com/github/Iqbalabbasi/skills-introduction-to-github/blob/main/Project_03_guess_the_number_56game.ipynb\" target=\"_parent\"><img src=\"https://colab.research.google.com/assets/colab-badge.svg\" alt=\"Open In Colab\"/></a>"
      ]
    },
    {
      "cell_type": "code",
      "execution_count": null,
      "metadata": {
        "colab": {
          "base_uri": "https://localhost:8080/"
        },
        "id": "imQ_siw9KcIi",
        "outputId": "6f998d36-2d72-4cad-a1d6-7873a7a739c2"
      },
      "outputs": [
        {
          "output_type": "stream",
          "name": "stdout",
          "text": [
            "Think of a number between 1 and 100. I’ll try to guess it!\n",
            "Is it 50? Type h for high, l for low, c for correct: 67\n",
            "Please only use h, l, or c!\n",
            "Is it 50? Type h for high, l for low, c for correct: 65\n",
            "Please only use h, l, or c!\n"
          ]
        }
      ],
      "source": [
        "import random\n",
        "\n",
        "print(\"Think of a number between 1 and 100. I’ll try to guess it!\")\n",
        "smallest = 1\n",
        "biggest = 100\n",
        "tries = 0\n",
        "\n",
        "while smallest <= biggest:\n",
        "    tries = tries + 1\n",
        "    my_guess = (smallest + biggest) // 2\n",
        "    answer = input(\"Is it \" + str(my_guess) + \"? Type h for high, l for low, c for correct: \")\n",
        "\n",
        "    if answer == \"c\":\n",
        "        print(\"Yay! I guessed it! It was\", my_guess, \"and it took me\", tries, \"tries.\")\n",
        "        break\n",
        "    elif answer == \"h\":\n",
        "        biggest = my_guess - 1  # Too high,so lower the top\n",
        "    elif answer == \"l\":\n",
        "        smallest = my_guess + 1  # Too lowso raise the bottom\n",
        "    else:\n",
        "        print(\"Please only use h, l, or c!\")"
      ]
    }
  ]
}