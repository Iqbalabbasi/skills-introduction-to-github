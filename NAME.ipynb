{
  "nbformat": 4,
  "nbformat_minor": 0,
  "metadata": {
    "colab": {
      "provenance": [],
      "authorship_tag": "ABX9TyNGH4X1DxGidbogPbkLvOFm",
      "include_colab_link": true
    },
    "kernelspec": {
      "name": "python3",
      "display_name": "Python 3"
    },
    "language_info": {
      "name": "python"
    }
  },
  "cells": [
    {
      "cell_type": "markdown",
      "metadata": {
        "id": "view-in-github",
        "colab_type": "text"
      },
      "source": [
        "<a href=\"https://colab.research.google.com/github/Iqbalabbasi/skills-introduction-to-github/blob/main/NAME.ipynb\" target=\"_parent\"><img src=\"https://colab.research.google.com/assets/colab-badge.svg\" alt=\"Open In Colab\"/></a>"
      ]
    },
    {
      "cell_type": "code",
      "execution_count": 3,
      "metadata": {
        "colab": {
          "base_uri": "https://localhost:8080/"
        },
        "id": "gyLlWjYlyO1J",
        "outputId": "649ed1b5-2c88-4d5f-a76c-2227a1051672"
      },
      "outputs": [
        {
          "output_type": "stream",
          "name": "stdout",
          "text": [
            "\n",
            "Hi, abbasi\n",
            "You got a free coupon code\n",
            "From: xyz\n",
            "\n"
          ]
        }
      ],
      "source": [
        "\n",
        "\n",
        "first_name = \"abbasi\"\n",
        "\n",
        "print(f\"\"\"\n",
        "Hi, {first_name}\n",
        "You got a free coupon code\n",
        "From: xyz\n",
        "\"\"\")"
      ]
    }
  ]
}