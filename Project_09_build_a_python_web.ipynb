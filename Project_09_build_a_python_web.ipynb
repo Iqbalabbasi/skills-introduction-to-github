{
  "nbformat": 4,
  "nbformat_minor": 0,
  "metadata": {
    "colab": {
      "provenance": [],
      "authorship_tag": "ABX9TyP7OGPNN6vbPn0rnEx01QYu",
      "include_colab_link": true
    },
    "kernelspec": {
      "name": "python3",
      "display_name": "Python 3"
    },
    "language_info": {
      "name": "python"
    }
  },
  "cells": [
    {
      "cell_type": "markdown",
      "metadata": {
        "id": "view-in-github",
        "colab_type": "text"
      },
      "source": [
        "<a href=\"https://colab.research.google.com/github/Iqbalabbasi/skills-introduction-to-github/blob/main/Project_09_build_a_python_web.ipynb\" target=\"_parent\"><img src=\"https://colab.research.google.com/assets/colab-badge.svg\" alt=\"Open In Colab\"/></a>"
      ]
    },
    {
      "cell_type": "code",
      "execution_count": 1,
      "metadata": {
        "colab": {
          "base_uri": "https://localhost:8080/"
        },
        "id": "5DCXP6xmQiVT",
        "outputId": "7958a9ac-44a2-45c8-d3fb-7e1832d7984e"
      },
      "outputs": [
        {
          "output_type": "stream",
          "name": "stdout",
          "text": [
            "Writing my_app.py\n"
          ]
        }
      ],
      "source": [
        "%%writefile my_app.py\n",
        "import streamlit as st\n",
        "\n",
        "st.set_page_config(page_title=\"My Cool Website\", layout=\"centered\")\n",
        "\n",
        "st.title(\"Hey, Welcome to My Website!\")\n",
        "\n",
        "st.header(\"About Me\")\n",
        "st.write(\"This is my little site made with Streamlit. It’s easy to add cool stuff here!\")\n",
        "\n",
        "st.header(\"Say Hi\")\n",
        "your_name = st.text_input(\"What’s your name?\")\n",
        "if your_name:\n",
        "    st.write(\"Hi there,\", your_name, \"! Glad you’re here.\")\n",
        "\n",
        "st.header(\"What’s Here\")\n",
        "st.write(\"- Fun and simple design\")\n",
        "st.write(\"- You can type your name\")\n",
        "st.write(\"- Quick to set up\")\n",
        "\n",
        "st.header(\"Get in Touch\")\n",
        "st.write(\"Check out [Streamlit’s Website](https://streamlit.io) for more info!\")"
      ]
    }
  ]
}