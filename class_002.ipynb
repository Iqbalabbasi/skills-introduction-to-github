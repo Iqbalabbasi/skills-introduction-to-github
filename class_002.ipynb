{
  "nbformat": 4,
  "nbformat_minor": 0,
  "metadata": {
    "colab": {
      "provenance": [],
      "authorship_tag": "ABX9TyNA/BZnUtgPjPNTJ5aqqcam",
      "include_colab_link": true
    },
    "kernelspec": {
      "name": "python3",
      "display_name": "Python 3"
    },
    "language_info": {
      "name": "python"
    }
  },
  "cells": [
    {
      "cell_type": "markdown",
      "metadata": {
        "id": "view-in-github",
        "colab_type": "text"
      },
      "source": [
        "<a href=\"https://colab.research.google.com/github/Iqbalabbasi/skills-introduction-to-github/blob/main/class_002.ipynb\" target=\"_parent\"><img src=\"https://colab.research.google.com/assets/colab-badge.svg\" alt=\"Open In Colab\"/></a>"
      ]
    },
    {
      "cell_type": "code",
      "source": [
        "name = \"Iqbal\"\n",
        "number = 9\n",
        "print(type(name))\n",
        "print(type(number))"
      ],
      "metadata": {
        "colab": {
          "base_uri": "https://localhost:8080/"
        },
        "id": "RrzKzFylk16d",
        "outputId": "a385c72e-fd8f-4653-9789-0449ab138ed9"
      },
      "execution_count": null,
      "outputs": [
        {
          "output_type": "stream",
          "name": "stdout",
          "text": [
            "<class 'str'>\n",
            "<class 'int'>\n"
          ]
        }
      ]
    },
    {
      "cell_type": "code",
      "source": [
        "name = \"Abbasi\"\n",
        "number = 9.6\n",
        "print(type(number))\n",
        "print(type(name))"
      ],
      "metadata": {
        "colab": {
          "base_uri": "https://localhost:8080/"
        },
        "id": "eAbb9UpglL8-",
        "outputId": "5f3c6bba-71e3-4773-c33a-9ec7d259f458"
      },
      "execution_count": null,
      "outputs": [
        {
          "output_type": "stream",
          "name": "stdout",
          "text": [
            "<class 'float'>\n",
            "<class 'str'>\n"
          ]
        }
      ]
    },
    {
      "cell_type": "code",
      "source": [
        "name = \"Iqbal\"\n",
        "number = 9\n",
        "print(type(name))"
      ],
      "metadata": {
        "colab": {
          "base_uri": "https://localhost:8080/"
        },
        "id": "iUXgKkEimEDO",
        "outputId": "ff3e10fa-8288-402c-aeea-489bc7671a1d"
      },
      "execution_count": null,
      "outputs": [
        {
          "output_type": "stream",
          "name": "stdout",
          "text": [
            "<class 'str'>\n"
          ]
        }
      ]
    },
    {
      "cell_type": "code",
      "source": [
        "print(name)\n",
        "print(number)"
      ],
      "metadata": {
        "colab": {
          "base_uri": "https://localhost:8080/"
        },
        "id": "woc8mnZdmm0j",
        "outputId": "f76c2f8c-e1d9-41b5-a618-89045a98e46f"
      },
      "execution_count": null,
      "outputs": [
        {
          "output_type": "stream",
          "name": "stdout",
          "text": [
            "Abbasi\n",
            "9.6\n"
          ]
        }
      ]
    },
    {
      "cell_type": "code",
      "source": [
        "f_name = \"Iqbal\"\n",
        "number = 5\n",
        "print(f\"My name is {name}\")"
      ],
      "metadata": {
        "id": "-UspLHUpnUCD",
        "colab": {
          "base_uri": "https://localhost:8080/"
        },
        "outputId": "b74a0059-b968-44f8-e445-67df5a718675"
      },
      "execution_count": null,
      "outputs": [
        {
          "output_type": "stream",
          "name": "stdout",
          "text": [
            "My name is Iqbal\n"
          ]
        }
      ]
    },
    {
      "cell_type": "code",
      "source": [
        "paragraph = \"\"\"my name is iqbal.\n",
        "I am a student of piaic\"\"\"\n",
        "print(paragraph)"
      ],
      "metadata": {
        "colab": {
          "base_uri": "https://localhost:8080/"
        },
        "id": "Cb1dlyvwH1Rn",
        "outputId": "554145e4-0560-4ca4-e3b8-40c9368d6a68"
      },
      "execution_count": null,
      "outputs": [
        {
          "output_type": "stream",
          "name": "stdout",
          "text": [
            "my name is iqbal.\n",
            "I am a student of piaic\n"
          ]
        }
      ]
    },
    {
      "cell_type": "code",
      "source": [
        "first_name = \"iqbal\"\n",
        "#print(first_name)"
      ],
      "metadata": {
        "id": "1ZourSUrLLOT"
      },
      "execution_count": null,
      "outputs": []
    },
    {
      "cell_type": "code",
      "source": [
        "first_name = \"Ali\"\n",
        "print(\n",
        "f\"\"\"Hi {first_name},\n",
        "you got a free coupon code;\n",
        "Happy 2025\n",
        "best regards,\n",
        "Iqbal\"\"\")"
      ],
      "metadata": {
        "colab": {
          "base_uri": "https://localhost:8080/"
        },
        "id": "GUVtvFngMq5B",
        "outputId": "4144ee2f-f974-4475-9ada-2f29f3d818c8"
      },
      "execution_count": null,
      "outputs": [
        {
          "output_type": "stream",
          "name": "stdout",
          "text": [
            "Hi Ali,\n",
            "you got a free coupon code;\n",
            "Happy 2025\n",
            "best regards,\n",
            "Iqbal\n"
          ]
        }
      ]
    },
    {
      "cell_type": "code",
      "source": [
        "from binascii import b2a_base64\n",
        "#Addition\n",
        "a = 11\n",
        "b = 5\n",
        "result = a+b\n",
        "print(\"Addition:\",result)\n",
        "\n",
        "#Subtraction\n",
        "a = 14\n",
        "b = 5\n",
        "result = a-b\n",
        "print(\"Subtractiln:\", result)\n",
        "\n",
        "#Multiplication\n",
        "a = 9\n",
        "b = 3\n",
        "result = a*b\n",
        "print(\"Multiplication\", result)\n",
        "\n",
        "#Divission\n",
        "a = 10\n",
        "b = 5\n",
        "result = a/b\n",
        "print(\"Division\", result)\n",
        "\n",
        "#Modulus\n",
        "a = 10\n",
        "b = 3\n",
        "result = a%b\n",
        "print(\"Modulus\", result)"
      ],
      "metadata": {
        "colab": {
          "base_uri": "https://localhost:8080/"
        },
        "id": "HdP8toDCZKvp",
        "outputId": "508fd2fd-d0a7-488b-e1b2-544d28e2aaf7"
      },
      "execution_count": null,
      "outputs": [
        {
          "output_type": "stream",
          "name": "stdout",
          "text": [
            "Addition: 16\n",
            "Subtractiln: 9\n",
            "Multiplication 27\n",
            "Division 2.0\n",
            "Modulus 1\n"
          ]
        }
      ]
    },
    {
      "cell_type": "code",
      "source": [
        "#Exponent\n",
        "num1 =5\n",
        "print(num1 ** 3)"
      ],
      "metadata": {
        "colab": {
          "base_uri": "https://localhost:8080/"
        },
        "id": "OzH31gpt_9hT",
        "outputId": "dd168f97-69c6-494f-858b-2b14681a3f09"
      },
      "execution_count": null,
      "outputs": [
        {
          "output_type": "stream",
          "name": "stdout",
          "text": [
            "125\n"
          ]
        }
      ]
    },
    {
      "cell_type": "code",
      "source": [
        "faculty_member = 12\n",
        "admin_member = 4\n",
        "students_member = 100\n",
        "absent_member = 15\n",
        "per_person_rabri = 250\n",
        "total_member = (faculty_member+admin_member+students_member)\n",
        "print(f\"total_member PIAIC {total_member}\")\n",
        "total_present_member = total_member-absent_member\n",
        "\n",
        "print(f\"total_present_member:{total_present_member}\")\n",
        "total_rabri__g = total_present_member * per_person_rabri\n",
        "print(f\"total rabri in gram:{total_present_member * per_person_rabri}\")\n",
        "total_rabri_g=25250\n",
        "print(f\"total rabri in kg :{total_rabri_g // 1000}\")"
      ],
      "metadata": {
        "colab": {
          "base_uri": "https://localhost:8080/"
        },
        "id": "-Q2zz12OBly3",
        "outputId": "bb65cbd1-84b3-4c31-e440-65d4296637da"
      },
      "execution_count": 24,
      "outputs": [
        {
          "output_type": "stream",
          "name": "stdout",
          "text": [
            "total_member PIAIC 116\n",
            "total_present_member:101\n",
            "total rabri in gram:25250\n",
            "total rabri in kg :25\n"
          ]
        }
      ]
    }
  ]
}