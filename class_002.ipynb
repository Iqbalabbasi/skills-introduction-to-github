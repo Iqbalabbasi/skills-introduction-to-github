{
  "nbformat": 4,
  "nbformat_minor": 0,
  "metadata": {
    "colab": {
      "provenance": [],
      "authorship_tag": "ABX9TyP/9mWQhm72yyH3alOsa38n",
      "include_colab_link": true
    },
    "kernelspec": {
      "name": "python3",
      "display_name": "Python 3"
    },
    "language_info": {
      "name": "python"
    }
  },
  "cells": [
    {
      "cell_type": "markdown",
      "metadata": {
        "id": "view-in-github",
        "colab_type": "text"
      },
      "source": [
        "<a href=\"https://colab.research.google.com/github/Iqbalabbasi/skills-introduction-to-github/blob/main/class_002.ipynb\" target=\"_parent\"><img src=\"https://colab.research.google.com/assets/colab-badge.svg\" alt=\"Open In Colab\"/></a>"
      ]
    },
    {
      "cell_type": "code",
      "source": [
        "name = \"Iqbal\"\n",
        "number = 9\n",
        "print(type(name))\n",
        "print(type(number))"
      ],
      "metadata": {
        "colab": {
          "base_uri": "https://localhost:8080/"
        },
        "id": "RrzKzFylk16d",
        "outputId": "a385c72e-fd8f-4653-9789-0449ab138ed9"
      },
      "execution_count": 1,
      "outputs": [
        {
          "output_type": "stream",
          "name": "stdout",
          "text": [
            "<class 'str'>\n",
            "<class 'int'>\n"
          ]
        }
      ]
    },
    {
      "cell_type": "code",
      "source": [
        "name = \"Abbasi\"\n",
        "number = 9.6\n",
        "print(type(number))\n",
        "print(type(name))"
      ],
      "metadata": {
        "colab": {
          "base_uri": "https://localhost:8080/"
        },
        "id": "eAbb9UpglL8-",
        "outputId": "5f3c6bba-71e3-4773-c33a-9ec7d259f458"
      },
      "execution_count": 2,
      "outputs": [
        {
          "output_type": "stream",
          "name": "stdout",
          "text": [
            "<class 'float'>\n",
            "<class 'str'>\n"
          ]
        }
      ]
    },
    {
      "cell_type": "code",
      "source": [
        "name = \"Iqbal\"\n",
        "number = 9\n",
        "print(type(name))"
      ],
      "metadata": {
        "colab": {
          "base_uri": "https://localhost:8080/"
        },
        "id": "iUXgKkEimEDO",
        "outputId": "ff3e10fa-8288-402c-aeea-489bc7671a1d"
      },
      "execution_count": null,
      "outputs": [
        {
          "output_type": "stream",
          "name": "stdout",
          "text": [
            "<class 'str'>\n"
          ]
        }
      ]
    },
    {
      "cell_type": "code",
      "source": [
        "print(name)\n",
        "print(number)"
      ],
      "metadata": {
        "colab": {
          "base_uri": "https://localhost:8080/"
        },
        "id": "woc8mnZdmm0j",
        "outputId": "f76c2f8c-e1d9-41b5-a618-89045a98e46f"
      },
      "execution_count": 3,
      "outputs": [
        {
          "output_type": "stream",
          "name": "stdout",
          "text": [
            "Abbasi\n",
            "9.6\n"
          ]
        }
      ]
    },
    {
      "cell_type": "code",
      "source": [
        "f_name = \"Iqbal\"\n",
        "number = 5\n",
        "print(f\"My name is {name}\")"
      ],
      "metadata": {
        "id": "-UspLHUpnUCD",
        "colab": {
          "base_uri": "https://localhost:8080/"
        },
        "outputId": "b74a0059-b968-44f8-e445-67df5a718675"
      },
      "execution_count": 19,
      "outputs": [
        {
          "output_type": "stream",
          "name": "stdout",
          "text": [
            "My name is Iqbal\n"
          ]
        }
      ]
    },
    {
      "cell_type": "code",
      "source": [
        "paragraph = \"\"\"my name is iqbal.\n",
        "I am a student of piaic\"\"\"\n",
        "print(paragraph)"
      ],
      "metadata": {
        "colab": {
          "base_uri": "https://localhost:8080/"
        },
        "id": "Cb1dlyvwH1Rn",
        "outputId": "554145e4-0560-4ca4-e3b8-40c9368d6a68"
      },
      "execution_count": 13,
      "outputs": [
        {
          "output_type": "stream",
          "name": "stdout",
          "text": [
            "my name is iqbal.\n",
            "I am a student of piaic\n"
          ]
        }
      ]
    },
    {
      "cell_type": "code",
      "source": [
        "first_name = \"iqbal\"\n",
        "#print(first_name)"
      ],
      "metadata": {
        "id": "1ZourSUrLLOT"
      },
      "execution_count": 22,
      "outputs": []
    },
    {
      "cell_type": "code",
      "source": [
        "first_name = \"Ali\"\n",
        "print(\n",
        "f\"\"\"Hi {first_name},\n",
        "you got a free coupon code;\n",
        "Happy 2025\n",
        "best regards,\n",
        "Iqbal\"\"\")"
      ],
      "metadata": {
        "colab": {
          "base_uri": "https://localhost:8080/"
        },
        "id": "GUVtvFngMq5B",
        "outputId": "b5e20a57-74d2-4465-bb9f-d2161884535e"
      },
      "execution_count": 27,
      "outputs": [
        {
          "output_type": "stream",
          "name": "stdout",
          "text": [
            "Hi Ali,\n",
            "you got a free coupon code;\n",
            "Happy 2025 \n",
            "best regards,\n",
            "Iqbal\n"
          ]
        }
      ]
    }
  ]
}