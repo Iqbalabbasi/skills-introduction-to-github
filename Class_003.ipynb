{
  "cells": [
    {
      "cell_type": "markdown",
      "metadata": {
        "id": "view-in-github",
        "colab_type": "text"
      },
      "source": [
        "<a href=\"https://colab.research.google.com/github/Iqbalabbasi/skills-introduction-to-github/blob/main/Class_003.ipynb\" target=\"_parent\"><img src=\"https://colab.research.google.com/assets/colab-badge.svg\" alt=\"Open In Colab\"/></a>"
      ]
    },
    {
      "cell_type": "code",
      "execution_count": null,
      "metadata": {
        "colab": {
          "base_uri": "https://localhost:8080/"
        },
        "id": "BI9btjwyKMu2",
        "outputId": "8fed9c17-70bc-428d-b97a-b7b9d7bf71ef"
      },
      "outputs": [
        {
          "name": "stdout",
          "output_type": "stream",
          "text": [
            "True\n",
            "<class 'bool'>\n"
          ]
        }
      ],
      "source": [
        "#Boolean\n",
        "is_loggedin = True #Boolean value\n",
        "are_road_closed = True\n",
        "is_internet_closed =False\n",
        "\n",
        "print(is_loggedin) #Output\n",
        "print(type(are_road_closed)) #Output"
      ]
    },
    {
      "cell_type": "code",
      "execution_count": null,
      "metadata": {
        "colab": {
          "base_uri": "https://localhost:8080/"
        },
        "id": "IKz3vHWNW5yF",
        "outputId": "83421fac-84ea-42b0-9606-caa380457a2c"
      },
      "outputs": [
        {
          "name": "stdout",
          "output_type": "stream",
          "text": [
            "False\n",
            "True\n",
            "False\n",
            "True\n",
            "True\n",
            "True\n"
          ]
        }
      ],
      "source": [
        "#comparison operatores:\n",
        "# == : Equal to\n",
        "# != : Not equal to\n",
        "# > : Greater than\n",
        "# < : Less than0\n",
        "# >= : Greater than or equal to\n",
        "# <= : Less than or not equal to\n",
        "\n",
        "#comparison operator examples\n",
        "a = 10\n",
        "b = 20\n",
        "print(a == b) #False\n",
        "print(a != b) #True\n",
        "print(a > b) #False\n",
        "print(a < b) #True\n",
        "print(a >= 8) #True\n",
        "print(a <= b) #True"
      ]
    },
    {
      "cell_type": "code",
      "execution_count": null,
      "metadata": {
        "colab": {
          "base_uri": "https://localhost:8080/"
        },
        "id": "Wdn4-fzxpOtq",
        "outputId": "828e2817-dd60-43f9-de5b-0c423d1746b5"
      },
      "outputs": [
        {
          "output_type": "stream",
          "name": "stdout",
          "text": [
            "False\n",
            "False\n",
            "False\n"
          ]
        }
      ],
      "source": [
        "my_age = 21\n",
        "print(my_age < 18)\n",
        "print(my_age > 21)\n",
        "print(my_age ==20)"
      ]
    },
    {
      "cell_type": "code",
      "source": [
        "my_age = 21\n",
        "if(my_age > 18):\n",
        "  print(\"you are allowed\")\n",
        "else:\n",
        "  print(\"You are not allowed\")"
      ],
      "metadata": {
        "colab": {
          "base_uri": "https://localhost:8080/"
        },
        "id": "BvBEtQkiuG3k",
        "outputId": "5657370c-e2e2-412a-c365-531fb08f5b99"
      },
      "execution_count": null,
      "outputs": [
        {
          "output_type": "stream",
          "name": "stdout",
          "text": [
            "you are allowed\n"
          ]
        }
      ]
    },
    {
      "cell_type": "code",
      "source": [
        "# Input example\n",
        "name = input(\"What is your name?\")\n",
        "print(f\"Hello,\" + name + \"!\")"
      ],
      "metadata": {
        "colab": {
          "base_uri": "https://localhost:8080/"
        },
        "id": "qvM3o1Njv8W9",
        "outputId": "bdfd3617-e161-49c4-defc-cf75d644eb03"
      },
      "execution_count": null,
      "outputs": [
        {
          "output_type": "stream",
          "name": "stdout",
          "text": [
            "What is your name?Abbasi\n",
            "Hello,Abbasi!\n"
          ]
        }
      ]
    },
    {
      "cell_type": "code",
      "source": [
        "# Conditional Statements\n",
        "age = int(input(\"Enter your age : \"))\n",
        "weight = int(input(\"enter your weight\"))\n",
        "\n",
        "if (age < 18):\n",
        "  print(\"you are minor.\")\n",
        "elif (age >= 18 and age <=79) :\n",
        "  print(\"you are an young person!\")\n",
        "elif (age >= 80 and weight <= 80) :\n",
        "  print (\"you can sit\")\n",
        "else:\n",
        "  print(\"you can't sit\")"
      ],
      "metadata": {
        "id": "FcA1LOe_w7DC",
        "colab": {
          "base_uri": "https://localhost:8080/"
        },
        "outputId": "3afb9e42-16f3-400f-ea39-b6e4d4e0e6bb"
      },
      "execution_count": 33,
      "outputs": [
        {
          "output_type": "stream",
          "name": "stdout",
          "text": [
            "Enter your age : 99\n",
            "enter your weight96\n",
            "you can't sit\n"
          ]
        }
      ]
    }
  ],
  "metadata": {
    "colab": {
      "provenance": [],
      "authorship_tag": "ABX9TyOb39m8zuzjfeqQUeHPEe+7",
      "include_colab_link": true
    },
    "kernelspec": {
      "display_name": "Python 3",
      "name": "python3"
    },
    "language_info": {
      "name": "python"
    }
  },
  "nbformat": 4,
  "nbformat_minor": 0
}