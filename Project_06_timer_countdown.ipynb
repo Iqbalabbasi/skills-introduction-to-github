{
  "nbformat": 4,
  "nbformat_minor": 0,
  "metadata": {
    "colab": {
      "provenance": [],
      "authorship_tag": "ABX9TyOWPKnb8PjUALMSENOwkVnv",
      "include_colab_link": true
    },
    "kernelspec": {
      "name": "python3",
      "display_name": "Python 3"
    },
    "language_info": {
      "name": "python"
    }
  },
  "cells": [
    {
      "cell_type": "markdown",
      "metadata": {
        "id": "view-in-github",
        "colab_type": "text"
      },
      "source": [
        "<a href=\"https://colab.research.google.com/github/Iqbalabbasi/skills-introduction-to-github/blob/main/Project_06_timer_countdown.ipynb\" target=\"_parent\"><img src=\"https://colab.research.google.com/assets/colab-badge.svg\" alt=\"Open In Colab\"/></a>"
      ]
    },
    {
      "cell_type": "code",
      "execution_count": 2,
      "metadata": {
        "colab": {
          "base_uri": "https://localhost:8080/"
        },
        "id": "J3uSIHrnN6aS",
        "outputId": "6b29fd66-7aff-4d17-aa81-1247fa6f3193"
      },
      "outputs": [
        {
          "output_type": "stream",
          "name": "stdout",
          "text": [
            "How many seconds to count down? 5\n",
            "Counting down from 5 seconds...\n",
            "All done!\n"
          ]
        }
      ],
      "source": [
        "\n",
        "\n",
        "#Countdown timer\n",
        "\n",
        "\n",
        "import time\n",
        "\n",
        "class Timer:\n",
        "    def __init__(self, time_left):\n",
        "        self.time_left = time_left\n",
        "\n",
        "    def begin(self):\n",
        "        print(\"Counting down from\", self.time_left, \"seconds...\")\n",
        "        while self.time_left > 0:\n",
        "            minutes = self.time_left // 60  # Whole min\n",
        "            seconds = self.time_left % 60  # R sec\n",
        "            clock = str(minutes).zfill(2) + \":\" + str(seconds).zfill(2)\n",
        "            print(clock, end=\"\\r\")\n",
        "            time.sleep(1)\n",
        "            self.time_left = self.time_left - 1\n",
        "        print(\"All done!\")\n",
        "\n",
        "# G t r\n",
        "try:\n",
        "    how_long = int(input(\"How many seconds to count down? \"))\n",
        "    my_clock = Timer(how_long)\n",
        "    my_clock.begin()\n",
        "except ValueError:\n",
        "    print(\"Oops, type a number please!\")"
      ]
    }
  ]
}