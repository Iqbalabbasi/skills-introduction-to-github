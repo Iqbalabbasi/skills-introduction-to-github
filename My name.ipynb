{
  "nbformat": 4,
  "nbformat_minor": 0,
  "metadata": {
    "colab": {
      "provenance": [],
      "authorship_tag": "ABX9TyPNfuYwfLFCedNsI3HDscLZ",
      "include_colab_link": true
    },
    "kernelspec": {
      "name": "python3",
      "display_name": "Python 3"
    },
    "language_info": {
      "name": "python"
    }
  },
  "cells": [
    {
      "cell_type": "markdown",
      "metadata": {
        "id": "view-in-github",
        "colab_type": "text"
      },
      "source": [
        "<a href=\"https://colab.research.google.com/github/Iqbalabbasi/skills-introduction-to-github/blob/main/My%20name.ipynb\" target=\"_parent\"><img src=\"https://colab.research.google.com/assets/colab-badge.svg\" alt=\"Open In Colab\"/></a>"
      ]
    },
    {
      "cell_type": "code",
      "execution_count": 9,
      "metadata": {
        "colab": {
          "base_uri": "https://localhost:8080/"
        },
        "id": "QF_guDA8pvYw",
        "outputId": "3bf76cbe-8d66-4b9d-83c9-190eb6d707cf"
      },
      "outputs": [
        {
          "output_type": "stream",
          "name": "stdout",
          "text": [
            "Hello,My name is abbasi and my age is 21\n"
          ]
        }
      ],
      "source": [
        "first_name = \"abbasi\"\n",
        "age = \"21\"\n",
        "\n",
        "print(f\"Hello,My name is {first_name} and my age is {age}\")"
      ]
    }
  ]
}