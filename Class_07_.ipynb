{
  "nbformat": 4,
  "nbformat_minor": 0,
  "metadata": {
    "colab": {
      "provenance": [],
      "authorship_tag": "ABX9TyOFOMhSfWWYSRiViYN5uA5H",
      "include_colab_link": true
    },
    "kernelspec": {
      "name": "python3",
      "display_name": "Python 3"
    },
    "language_info": {
      "name": "python"
    }
  },
  "cells": [
    {
      "cell_type": "markdown",
      "metadata": {
        "id": "view-in-github",
        "colab_type": "text"
      },
      "source": [
        "<a href=\"https://colab.research.google.com/github/Iqbalabbasi/skills-introduction-to-github/blob/main/Class_07_.ipynb\" target=\"_parent\"><img src=\"https://colab.research.google.com/assets/colab-badge.svg\" alt=\"Open In Colab\"/></a>"
      ]
    },
    {
      "cell_type": "code",
      "execution_count": 29,
      "metadata": {
        "colab": {
          "base_uri": "https://localhost:8080/"
        },
        "id": "mNNeReQ0u0-Y",
        "outputId": "368f6d53-0138-4f4f-c96a-19e69fde5631"
      },
      "outputs": [
        {
          "output_type": "stream",
          "name": "stdout",
          "text": [
            "{'name': 'Abbasi', 'age': 21, 'isnotmarried': True, 'address': {'line1': 'xyz street', 'city': ' Karachi', 'country': 'Pakistan'}}\n",
            "Pakistan\n"
          ]
        }
      ],
      "source": [
        "user1 = {\n",
        "    \"name\":\"Abbasi\",\n",
        "    \"age\": 21,\n",
        "    \"isnotmarried\":True,\n",
        "    \"address\": {\n",
        "      \"line1\":\"xyz street\",\n",
        "      \"city\": \" Karachi\",\n",
        "      \"country\":\"Pakistan\",\n",
        "      },\n",
        "      }\n",
        "print (user1)\n",
        "print(user1 [\"address\"][\"country\"])"
      ]
    },
    {
      "cell_type": "code",
      "source": [
        "user1 = {\n",
        "    \"name\":\"Abbasi\",\n",
        "    \"age\": 21,\n",
        "    \"isnotmarried\":True,\n",
        "    \"address\": {\n",
        "      \"line1\":\"xyz street\",\n",
        "      \"city\": \" Karachi\",\n",
        "      \"country\":\"Pakistan\",\n",
        "      \"height\": \"6\"\n",
        "      },\n",
        "       \"skills\":[\"python\",\"java\",\" c++\"]\n",
        "       }\n",
        "print(user1)\n",
        "print(user1[\"age\"],[\"height\"])"
      ],
      "metadata": {
        "colab": {
          "base_uri": "https://localhost:8080/"
        },
        "id": "TTcn6c7Kz2em",
        "outputId": "67e6db35-49c9-485a-e91f-ea3db41e3bd2"
      },
      "execution_count": 36,
      "outputs": [
        {
          "output_type": "stream",
          "name": "stdout",
          "text": [
            "{'name': 'Abbasi', 'age': 21, 'isnotmarried': True, 'address': {'line1': 'xyz street', 'city': ' Karachi', 'country': 'Pakistan', 'height': '6'}, 'skills': ['python', 'java', ' c++']}\n",
            "21 ['height']\n"
          ]
        }
      ]
    },
    {
      "cell_type": "code",
      "source": [
        "countdown = 10\n",
        "print( f\"{countdown}...\")\n",
        "countdown -= 1 # 9\n",
        "print(f\"{countdown}...\")\n",
        "countdown -= 1 # 8"
      ],
      "metadata": {
        "colab": {
          "base_uri": "https://localhost:8080/"
        },
        "id": "TriAeUsQ4IhR",
        "outputId": "b4491653-c5eb-4545-edce-2100465cfd25"
      },
      "execution_count": 47,
      "outputs": [
        {
          "output_type": "stream",
          "name": "stdout",
          "text": [
            "10...\n",
            "9...\n"
          ]
        }
      ]
    },
    {
      "cell_type": "code",
      "source": [
        "\n",
        "count = 1\n",
        "\n",
        "while count <= 10:\n",
        "    print(f\"{count}...\")\n",
        "    count += 1"
      ],
      "metadata": {
        "colab": {
          "base_uri": "https://localhost:8080/"
        },
        "id": "BU4ijuzR5xOk",
        "outputId": "d49daf29-ab58-40a6-a2f7-0a06217eca61"
      },
      "execution_count": 64,
      "outputs": [
        {
          "output_type": "stream",
          "name": "stdout",
          "text": [
            "1...\n",
            "2...\n",
            "3...\n",
            "4...\n",
            "5...\n",
            "6...\n",
            "7...\n",
            "8...\n",
            "9...\n",
            "10...\n"
          ]
        }
      ]
    },
    {
      "cell_type": "code",
      "source": [
        "\n",
        "count = 10\n",
        "\n",
        "while count >= 1:\n",
        "    print(f\"{count}...\")\n",
        "    count -= 1"
      ],
      "metadata": {
        "colab": {
          "base_uri": "https://localhost:8080/"
        },
        "id": "col6PAWQBUwI",
        "outputId": "a06b022f-c052-4b90-9491-580a539820d3"
      },
      "execution_count": 67,
      "outputs": [
        {
          "output_type": "stream",
          "name": "stdout",
          "text": [
            "10...\n",
            "9...\n",
            "8...\n",
            "7...\n",
            "6...\n",
            "5...\n",
            "4...\n",
            "3...\n",
            "2...\n",
            "1...\n"
          ]
        }
      ]
    },
    {
      "cell_type": "code",
      "source": [
        "fruits = [\"Mango\",\"Orange\",\"Banana\"]\n",
        "for fru in fruits:\n",
        "   print(f\" I like {fru}\")"
      ],
      "metadata": {
        "colab": {
          "base_uri": "https://localhost:8080/"
        },
        "id": "P9NkwgHVDtXl",
        "outputId": "f47b6878-f400-4e7a-b6d3-5f0f10217188"
      },
      "execution_count": 73,
      "outputs": [
        {
          "output_type": "stream",
          "name": "stdout",
          "text": [
            " I like Mango\n",
            " I like Orange\n",
            " I like Banana\n"
          ]
        }
      ]
    },
    {
      "cell_type": "code",
      "source": [
        "fruits = [\"Mango\",\"Orange\",\"Banana\"]\n",
        "fruits. reverse()\n",
        "for fru in fruits:\n",
        "   print(f\" I like {fru}\")"
      ],
      "metadata": {
        "colab": {
          "base_uri": "https://localhost:8080/"
        },
        "id": "loYM8r07Eayr",
        "outputId": "e8c7902f-b4a3-4df7-c08a-61981c50f0c9"
      },
      "execution_count": 75,
      "outputs": [
        {
          "output_type": "stream",
          "name": "stdout",
          "text": [
            " I like Banana\n",
            " I like Orange\n",
            " I like Mango\n"
          ]
        }
      ]
    },
    {
      "cell_type": "code",
      "source": [
        "skills = [\"python\",\"java\",\"c++\",\"typescript\"]\n",
        "\n",
        "for sk in skills:\n",
        "   print (f\"  {sk}\")"
      ],
      "metadata": {
        "colab": {
          "base_uri": "https://localhost:8080/"
        },
        "id": "9ku_INMYFkU3",
        "outputId": "d847cffb-c55f-44cb-a379-0a56feccdf9f"
      },
      "execution_count": 79,
      "outputs": [
        {
          "output_type": "stream",
          "name": "stdout",
          "text": [
            "  python\n",
            "  java\n",
            "  c++\n",
            "  typescript\n"
          ]
        }
      ]
    }
  ]
}