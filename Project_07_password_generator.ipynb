{
  "nbformat": 4,
  "nbformat_minor": 0,
  "metadata": {
    "colab": {
      "provenance": [],
      "authorship_tag": "ABX9TyPEcDGogQ0cm/wvvNLg6UXY",
      "include_colab_link": true
    },
    "kernelspec": {
      "name": "python3",
      "display_name": "Python 3"
    },
    "language_info": {
      "name": "python"
    }
  },
  "cells": [
    {
      "cell_type": "markdown",
      "metadata": {
        "id": "view-in-github",
        "colab_type": "text"
      },
      "source": [
        "<a href=\"https://colab.research.google.com/github/Iqbalabbasi/skills-introduction-to-github/blob/main/Project_07_password_generator.ipynb\" target=\"_parent\"><img src=\"https://colab.research.google.com/assets/colab-badge.svg\" alt=\"Open In Colab\"/></a>"
      ]
    },
    {
      "cell_type": "code",
      "execution_count": null,
      "metadata": {
        "colab": {
          "base_uri": "https://localhost:8080/"
        },
        "id": "VvVglOAaOwzo",
        "outputId": "581c0c22-af6f-43e7-cefe-1e4f3e921d56"
      },
      "outputs": [
        {
          "name": "stdout",
          "output_type": "stream",
          "text": [
            "How long should the password be? 12\n",
            "Want numbers in it? (y/n): y\n"
          ]
        }
      ],
      "source": [
        "#Enter password length: 12\n",
        "#Include digits? (y/n): y\n",
        "#Include special characters? (y/n): y\n",
        "#Generated Password: .rlg:uW#$Rc(\n",
        "\n",
        "\n",
        "\n",
        "\n",
        "import random\n",
        "import string\n",
        "\n",
        "class MyPasswordMaker:\n",
        "    def __init__(self, size=12, add_numbers=True, add_special=True):\n",
        "        self.size = size\n",
        "        self.add_numbers = add_numbers\n",
        "        self.add_special = add_special\n",
        "\n",
        "    def make_password(self):\n",
        "        chars = string.ascii_letters  # Start with letters\n",
        "        if self.add_numbers:\n",
        "            chars = chars + string.digits  # Add numbers if yes\n",
        "        if self.add_special:\n",
        "            chars = chars + string.punctuation  # Add special chars if yes\n",
        "\n",
        "        # B p\n",
        "        my_password = \"\"\n",
        "        for _ in range(self.size):\n",
        "            my_password = my_password + random.choice(chars)\n",
        "        return my_password\n",
        "\n",
        "try:\n",
        "    how_long = int(input(\"How long should the password be? \"))\n",
        "    numbers_ok = input(\"Want numbers in it? (y/n): \").lower() == \"y\"\n",
        "    special_ok = input(\"Want special characters? (y/n): \").lower() == \"y\"\n",
        "\n",
        "    my_gen = MyPasswordMaker(how_long, numbers_ok, special_ok)\n",
        "    print(\"Here’s your password:\", my_gen.make_password())\n",
        "except ValueError:\n",
        "    print(\"Oops, use a number for the length!\")"
      ]
    }
  ]
}