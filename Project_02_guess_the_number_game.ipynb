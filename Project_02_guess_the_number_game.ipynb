{
  "nbformat": 4,
  "nbformat_minor": 0,
  "metadata": {
    "colab": {
      "provenance": [],
      "authorship_tag": "ABX9TyMznmdUMizTBYY9GvpATBmN",
      "include_colab_link": true
    },
    "kernelspec": {
      "name": "python3",
      "display_name": "Python 3"
    },
    "language_info": {
      "name": "python"
    }
  },
  "cells": [
    {
      "cell_type": "markdown",
      "metadata": {
        "id": "view-in-github",
        "colab_type": "text"
      },
      "source": [
        "<a href=\"https://colab.research.google.com/github/Iqbalabbasi/skills-introduction-to-github/blob/main/Project_02_guess_the_number_game.ipynb\" target=\"_parent\"><img src=\"https://colab.research.google.com/assets/colab-badge.svg\" alt=\"Open In Colab\"/></a>"
      ]
    },
    {
      "cell_type": "code",
      "execution_count": null,
      "metadata": {
        "colab": {
          "base_uri": "https://localhost:8080/"
        },
        "id": "UMS3-kMUFLtN",
        "outputId": "e47c2e75-16a3-4ea7-eefe-f54be796e2c0"
      },
      "outputs": [
        {
          "output_type": "stream",
          "name": "stdout",
          "text": [
            "I’ve picked a number from 1 to 100 . Can you guess it?\n",
            "What’s your guess? 37\n",
            "Nope, too low! Guess again.\n"
          ]
        }
      ],
      "source": [
        "import random\n",
        "\n",
        "def start_game():\n",
        "    min_num = 1\n",
        "    max_num = 100\n",
        "    secret_num = random.randint(min_num, max_num)\n",
        "    tries = 0\n",
        "\n",
        "    # Messege\n",
        "    print(\"I’ve picked a number from\", min_num, \"to\", max_num, \". Can you guess it?\")\n",
        "\n",
        "    # loop\n",
        "    while True:\n",
        "        try:\n",
        "            your_guess = int(input(\"What’s your guess? \"))\n",
        "            tries = tries + 1\n",
        "\n",
        "            if your_guess < secret_num:\n",
        "                print(\"Nope, too low! Guess again.\")\n",
        "            elif your_guess > secret_num:\n",
        "                print(\"Nope, too high! Guess again.\")\n",
        "            else:\n",
        "                print(\"Yes! You got it! The number was\", secret_num, \"and it took\", tries, \"tries.\")\n",
        "                break\n",
        "        except ValueError:\n",
        "            print(\"Oops, that’s not a number. Try again.\")\n",
        "start_game()"
      ]
    }
  ]
}