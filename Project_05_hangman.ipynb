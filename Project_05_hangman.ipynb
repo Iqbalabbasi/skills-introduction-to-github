{
  "nbformat": 4,
  "nbformat_minor": 0,
  "metadata": {
    "colab": {
      "provenance": [],
      "authorship_tag": "ABX9TyNJLqA9v0DJq3OYyXNZxQnJ",
      "include_colab_link": true
    },
    "kernelspec": {
      "name": "python3",
      "display_name": "Python 3"
    },
    "language_info": {
      "name": "python"
    }
  },
  "cells": [
    {
      "cell_type": "markdown",
      "metadata": {
        "id": "view-in-github",
        "colab_type": "text"
      },
      "source": [
        "<a href=\"https://colab.research.google.com/github/Iqbalabbasi/skills-introduction-to-github/blob/main/Project_05_hangman.ipynb\" target=\"_parent\"><img src=\"https://colab.research.google.com/assets/colab-badge.svg\" alt=\"Open In Colab\"/></a>"
      ]
    },
    {
      "cell_type": "code",
      "execution_count": null,
      "metadata": {
        "colab": {
          "base_uri": "https://localhost:8080/"
        },
        "id": "zrqhDepeNQKV",
        "outputId": "4bf3c1f3-4ab7-4e50-a5e1-b09927b03965"
      },
      "outputs": [
        {
          "output_type": "stream",
          "name": "stdout",
          "text": [
            "Let’s play Hangman!\n",
            "Current word: _ _ _ _\n",
            "Tries left: 6\n",
            "Letters used: \n",
            "Pick a letter: 5\n",
            "Hey, just one letter please!\n",
            "Current word: _ _ _ _\n",
            "Tries left: 6\n",
            "Letters used: \n",
            "Pick a letter: 10\n",
            "Hey, just one letter please!\n",
            "Current word: _ _ _ _\n",
            "Tries left: 6\n",
            "Letters used: \n",
            "Pick a letter: 7\n",
            "Hey, just one letter please!\n",
            "Current word: _ _ _ _\n",
            "Tries left: 6\n",
            "Letters used: \n",
            "Pick a letter: 6\n",
            "Hey, just one letter please!\n",
            "Current word: _ _ _ _\n",
            "Tries left: 6\n",
            "Letters used: \n"
          ]
        }
      ],
      "source": [
        "import random\n",
        "\n",
        "class MyHangman:\n",
        "    def __init__(self, words):\n",
        "        self.my_words = words\n",
        "        self.secret_word = random.choice(self.my_words).lower()\n",
        "        self.guesses = set()  #Letter i have guess\n",
        "        self.tries_left = 6\n",
        "        self.show_word = [\"_\" for letter in self.secret_word]\n",
        "\n",
        "    def show_game(self):\n",
        "        print(\"Current word:\", \" \".join(self.show_word))\n",
        "        print(\"Tries left:\", self.tries_left)\n",
        "        print(\"Letters used:\", \", \".join(self.guesses))\n",
        "\n",
        "    def play_game(self):\n",
        "        print(\"Let’s play Hangman!\")\n",
        "        while self.tries_left > 0 and \"_\" in self.show_word:\n",
        "            self.show_game()\n",
        "            my_guess = input(\"Pick a letter: \").lower()\n",
        "\n",
        "            if len(my_guess) != 1 or not my_guess.isalpha():\n",
        "                print(\"Hey, just one letter please!\")\n",
        "                continue\n",
        "\n",
        "            if my_guess in self.guesses:\n",
        "                print(\"You tried that one already!\")\n",
        "                continue\n",
        "\n",
        "            self.guesses.add(my_guess)\n",
        "\n",
        "            if my_guess in self.secret_word:\n",
        "                for i in range(len(self.secret_word)):\n",
        "                    if self.secret_word[i] == my_guess:\n",
        "                        self.show_word[i] = my_guess\n",
        "                print(\"Nice one!\")\n",
        "            else:\n",
        "                self.tries_left = self.tries_left - 1\n",
        "                print(\"Oops, not in there!\")\n",
        "\n",
        "        self.show_game()\n",
        "        if \"_\" not in self.show_word:\n",
        "            print(\"Woohoo! You got it! The word was:\", self.secret_word)\n",
        "        else:\n",
        "            print(\"Oh no! You lost. The word was:\", self.secret_word)\n",
        "\n",
        "my_words = [\"python\", \"java\", \"hangman\", \"programming\", \"developer\"]\n",
        "game = MyHangman(my_words)\n",
        "game.play_game()"
      ]
    }
  ]
}