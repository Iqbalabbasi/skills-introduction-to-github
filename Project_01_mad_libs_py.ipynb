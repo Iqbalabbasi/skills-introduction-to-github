{
  "nbformat": 4,
  "nbformat_minor": 0,
  "metadata": {
    "colab": {
      "provenance": [],
      "authorship_tag": "ABX9TyNa5Sp6i4ctloMe6q/eu7iM",
      "include_colab_link": true
    },
    "kernelspec": {
      "name": "python3",
      "display_name": "Python 3"
    },
    "language_info": {
      "name": "python"
    }
  },
  "cells": [
    {
      "cell_type": "markdown",
      "metadata": {
        "id": "view-in-github",
        "colab_type": "text"
      },
      "source": [
        "<a href=\"https://colab.research.google.com/github/Iqbalabbasi/skills-introduction-to-github/blob/main/Project_01_mad_libs_py.ipynb\" target=\"_parent\"><img src=\"https://colab.research.google.com/assets/colab-badge.svg\" alt=\"Open In Colab\"/></a>"
      ]
    },
    {
      "cell_type": "code",
      "execution_count": 1,
      "metadata": {
        "colab": {
          "base_uri": "https://localhost:8080/"
        },
        "id": "dmcwNjdkC2P5",
        "outputId": "ddbeb667-4645-4f23-8660-203891b549d3"
      },
      "outputs": [
        {
          "output_type": "stream",
          "name": "stdout",
          "text": [
            "Enter an adjective: Cheerful\n",
            "Enter a noun: Dragon\n",
            "Enter a verb: Dance\n",
            "Enter a place: Castle\n",
            "One day, a Cheerful Dragon decided to Dance at the Castle. It was a wonderful adventure!\n"
          ]
        }
      ],
      "source": [
        "#Enter an adjective: cheerful\n",
        "#Enter a noun: dragon\n",
        "#Enter a verb: dance\n",
        "#Enter a place: castle\n",
        "\n",
        "adjective = input(\"Enter an adjective: \")\n",
        "noun = input(\"Enter a noun: \")\n",
        "verb = input(\"Enter a verb: \")\n",
        "place = input(\"Enter a place: \")\n",
        "\n",
        "story = f\"One day, a {adjective} {noun} decided to {verb} at the {place}. It was a wonderful adventure!\"\n",
        "\n",
        "print(story)"
      ]
    }
  ]
}