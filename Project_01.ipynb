{
  "nbformat": 4,
  "nbformat_minor": 0,
  "metadata": {
    "colab": {
      "provenance": [],
      "authorship_tag": "ABX9TyMGIHpLmZEoGoBqh3TDjYfc",
      "include_colab_link": true
    },
    "kernelspec": {
      "name": "python3",
      "display_name": "Python 3"
    },
    "language_info": {
      "name": "python"
    }
  },
  "cells": [
    {
      "cell_type": "markdown",
      "metadata": {
        "id": "view-in-github",
        "colab_type": "text"
      },
      "source": [
        "<a href=\"https://colab.research.google.com/github/Iqbalabbasi/skills-introduction-to-github/blob/main/Project_01.ipynb\" target=\"_parent\"><img src=\"https://colab.research.google.com/assets/colab-badge.svg\" alt=\"Open In Colab\"/></a>"
      ]
    },
    {
      "cell_type": "code",
      "execution_count": null,
      "metadata": {
        "id": "6B6cai30L8oh"
      },
      "outputs": [],
      "source": [
        "prompt: str= \"what do you want\"\n",
        "joke: str= \"Here is a joke for you! Panaversity GPT - Sophia is heading out to the grocery store.A programmer tells her;get a liter of milk,and if they have eggs, get 12.Sophia returns with 13 liter of milk.The programmer asks why and Sophia replies:'becaus they had eggs'\"\n",
        "sorry: str=\"sorry,i only tell joke.\"\n",
        "def project():\n",
        "\n",
        "    user_input = input(prompt).strip().lower()\n",
        "\n",
        "    if \"joke\" in user_input:\n",
        "      print(joke)\n",
        "    else:\n",
        "        print(sorry)\n",
        "project()"
      ]
    }
  ]
}