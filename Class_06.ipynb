{
  "nbformat": 4,
  "nbformat_minor": 0,
  "metadata": {
    "colab": {
      "provenance": [],
      "authorship_tag": "ABX9TyPNI5rycT95X/oYVs3bd7dR",
      "include_colab_link": true
    },
    "kernelspec": {
      "name": "python3",
      "display_name": "Python 3"
    },
    "language_info": {
      "name": "python"
    }
  },
  "cells": [
    {
      "cell_type": "markdown",
      "metadata": {
        "id": "view-in-github",
        "colab_type": "text"
      },
      "source": [
        "<a href=\"https://colab.research.google.com/github/Iqbalabbasi/skills-introduction-to-github/blob/main/Class_06.ipynb\" target=\"_parent\"><img src=\"https://colab.research.google.com/assets/colab-badge.svg\" alt=\"Open In Colab\"/></a>"
      ]
    },
    {
      "cell_type": "code",
      "source": [
        "def greet():\n",
        "   print(\"Hello world\")\n",
        "greet()"
      ],
      "metadata": {
        "colab": {
          "base_uri": "https://localhost:8080/"
        },
        "id": "XOxBUchJudtG",
        "outputId": "ab59619f-e386-40b2-ff73-50a8a184b2fb"
      },
      "execution_count": null,
      "outputs": [
        {
          "output_type": "stream",
          "name": "stdout",
          "text": [
            "Hello world\n"
          ]
        }
      ]
    },
    {
      "cell_type": "code",
      "source": [
        "def make_pizza():\n",
        "   print(\"Take order\")\n",
        "   print(\"Make pizza\")\n",
        "   print(\"Deliver pizza\")\n",
        "make_pizza()"
      ],
      "metadata": {
        "colab": {
          "base_uri": "https://localhost:8080/"
        },
        "id": "-4x3QufCu0Xt",
        "outputId": "14c0a39b-2096-4ebc-9abe-246e38f9d111"
      },
      "execution_count": null,
      "outputs": [
        {
          "output_type": "stream",
          "name": "stdout",
          "text": [
            "Take order\n",
            "Make pizza\n",
            "Deliver pizza\n"
          ]
        }
      ]
    },
    {
      "cell_type": "code",
      "source": [
        "def sum():\n",
        "   print(2+2)\n",
        "sum()"
      ],
      "metadata": {
        "colab": {
          "base_uri": "https://localhost:8080/"
        },
        "id": "gg_9DgW3vibN",
        "outputId": "855abb24-4282-42e6-8af1-94f4bdabf8ad"
      },
      "execution_count": null,
      "outputs": [
        {
          "output_type": "stream",
          "name": "stdout",
          "text": [
            "4\n"
          ]
        }
      ]
    },
    {
      "cell_type": "code",
      "source": [
        "def sum(num1: int,num2: int):\n",
        "   print(num1 +num2)\n",
        "# num1,num2\n",
        "sum( 5, 10)"
      ],
      "metadata": {
        "colab": {
          "base_uri": "https://localhost:8080/"
        },
        "id": "797PujwLy0gt",
        "outputId": "b9f06346-65ac-4a2f-d58f-518932440ba9"
      },
      "execution_count": null,
      "outputs": [
        {
          "output_type": "stream",
          "name": "stdout",
          "text": [
            "15\n"
          ]
        }
      ]
    },
    {
      "cell_type": "code",
      "source": [
        "def calc(num1: int, num2: int,operator: str=\"+\"):\n",
        " if( operator==\"+\"):\n",
        "  print(num1 + num2)\n",
        "\n",
        " elif(operator==\"-\"):\n",
        "  print(num1-num2)\n",
        " else:\n",
        "  print(\"invalid operator\")\n",
        "\n",
        "# num1,num2,operatore\n",
        "calc(5, 10, \"-\")"
      ],
      "metadata": {
        "colab": {
          "base_uri": "https://localhost:8080/"
        },
        "id": "VjO9gYPszsCm",
        "outputId": "2549c742-992f-410f-a3cb-23fc7849e334"
      },
      "execution_count": 70,
      "outputs": [
        {
          "output_type": "stream",
          "name": "stdout",
          "text": [
            "-5\n"
          ]
        }
      ]
    },
    {
      "cell_type": "code",
      "source": [],
      "metadata": {
        "id": "rL-xtTnhMi8p"
      },
      "execution_count": null,
      "outputs": []
    },
    {
      "cell_type": "code",
      "source": [
        "def catch(item:str= \"ball\"):\n",
        " print(\"catched!!!\")\n",
        "\n",
        " return \"⚽\""
      ],
      "metadata": {
        "id": "v-coki9D-IzC"
      },
      "execution_count": 69,
      "outputs": []
    },
    {
      "cell_type": "code",
      "source": [
        "bag = catch()\n",
        "print(bag)"
      ],
      "metadata": {
        "colab": {
          "base_uri": "https://localhost:8080/"
        },
        "id": "jJmxS-IPBKM9",
        "outputId": "34612165-d987-461b-cc5d-01c3aaaf8007"
      },
      "execution_count": null,
      "outputs": [
        {
          "output_type": "stream",
          "name": "stdout",
          "text": [
            "catched!!!\n",
            "None\n"
          ]
        }
      ]
    },
    {
      "cell_type": "code",
      "source": [
        "bag = catch()\n",
        "print(bag)"
      ],
      "metadata": {
        "colab": {
          "base_uri": "https://localhost:8080/"
        },
        "id": "b61F5NbXKGd6",
        "outputId": "1c158360-ad8f-4150-992b-672e54cb0d26"
      },
      "execution_count": 62,
      "outputs": [
        {
          "output_type": "stream",
          "name": "stdout",
          "text": [
            "catched!!!\n",
            "None\n"
          ]
        }
      ]
    },
    {
      "cell_type": "code",
      "source": [
        "output_in_bag = catch()\n",
        "if (output_in_bag ==\" ⚽ \"):\n",
        " print(\"You win\")"
      ],
      "metadata": {
        "colab": {
          "base_uri": "https://localhost:8080/"
        },
        "id": "niNsnn21Kzmo",
        "outputId": "14b63654-2ed4-4385-a6e6-40d6f39f5162"
      },
      "execution_count": 68,
      "outputs": [
        {
          "output_type": "stream",
          "name": "stdout",
          "text": [
            "catched!!!\n"
          ]
        }
      ]
    }
  ]
}