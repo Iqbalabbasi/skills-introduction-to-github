{
  "nbformat": 4,
  "nbformat_minor": 0,
  "metadata": {
    "colab": {
      "provenance": [],
      "authorship_tag": "ABX9TyMM9QlSyYWMdUF+RemwfDZq",
      "include_colab_link": true
    },
    "kernelspec": {
      "name": "python3",
      "display_name": "Python 3"
    },
    "language_info": {
      "name": "python"
    }
  },
  "cells": [
    {
      "cell_type": "markdown",
      "metadata": {
        "id": "view-in-github",
        "colab_type": "text"
      },
      "source": [
        "<a href=\"https://colab.research.google.com/github/Iqbalabbasi/skills-introduction-to-github/blob/main/Class_06.ipynb\" target=\"_parent\"><img src=\"https://colab.research.google.com/assets/colab-badge.svg\" alt=\"Open In Colab\"/></a>"
      ]
    },
    {
      "cell_type": "code",
      "source": [
        "def greet():\n",
        "   print(\"Hello world\")\n",
        "greet()"
      ],
      "metadata": {
        "colab": {
          "base_uri": "https://localhost:8080/"
        },
        "id": "XOxBUchJudtG",
        "outputId": "ab59619f-e386-40b2-ff73-50a8a184b2fb"
      },
      "execution_count": 12,
      "outputs": [
        {
          "output_type": "stream",
          "name": "stdout",
          "text": [
            "Hello world\n"
          ]
        }
      ]
    },
    {
      "cell_type": "code",
      "source": [
        "def make_pizza():\n",
        "   print(\"Take order\")\n",
        "   print(\"Make pizza\")\n",
        "   print(\"Deliver pizza\")\n",
        "make_pizza()"
      ],
      "metadata": {
        "colab": {
          "base_uri": "https://localhost:8080/"
        },
        "id": "-4x3QufCu0Xt",
        "outputId": "14c0a39b-2096-4ebc-9abe-246e38f9d111"
      },
      "execution_count": 15,
      "outputs": [
        {
          "output_type": "stream",
          "name": "stdout",
          "text": [
            "Take order\n",
            "Make pizza\n",
            "Deliver pizza\n"
          ]
        }
      ]
    },
    {
      "cell_type": "code",
      "source": [
        "def sum():\n",
        "   print(2+2)\n",
        "sum()"
      ],
      "metadata": {
        "colab": {
          "base_uri": "https://localhost:8080/"
        },
        "id": "gg_9DgW3vibN",
        "outputId": "855abb24-4282-42e6-8af1-94f4bdabf8ad"
      },
      "execution_count": 27,
      "outputs": [
        {
          "output_type": "stream",
          "name": "stdout",
          "text": [
            "4\n"
          ]
        }
      ]
    },
    {
      "cell_type": "code",
      "source": [
        "def sum(num1: int,num2: int):\n",
        "   print(num1 +num2)\n",
        "# num1,num2\n",
        "sum( 5, 10)"
      ],
      "metadata": {
        "colab": {
          "base_uri": "https://localhost:8080/"
        },
        "id": "797PujwLy0gt",
        "outputId": "b9f06346-65ac-4a2f-d58f-518932440ba9"
      },
      "execution_count": 33,
      "outputs": [
        {
          "output_type": "stream",
          "name": "stdout",
          "text": [
            "15\n"
          ]
        }
      ]
    },
    {
      "cell_type": "code",
      "source": [
        "def calc(num1: int, num2: int,operator: str=\"+\"):\n",
        " if( operator==\"+\"):\n",
        "  print(num1 + num2)\n",
        "\n",
        " elif(operator==\"-\"):\n",
        "  print(num1-num2)\n",
        " else:\n",
        "  print(\"invalid operator\"):\n",
        "\n",
        "# num1,num2,operatore\n",
        "calc(5, 10, \"-\")"
      ],
      "metadata": {
        "colab": {
          "base_uri": "https://localhost:8080/",
          "height": 124
        },
        "id": "VjO9gYPszsCm",
        "outputId": "392165ca-914b-4061-8ea0-180d0fb220b8"
      },
      "execution_count": 47,
      "outputs": [
        {
          "output_type": "error",
          "ename": "SyntaxError",
          "evalue": "invalid syntax (<ipython-input-47-0de059c64e34>, line 8)",
          "traceback": [
            "\u001b[0;36m  File \u001b[0;32m\"<ipython-input-47-0de059c64e34>\"\u001b[0;36m, line \u001b[0;32m8\u001b[0m\n\u001b[0;31m    print(\"invalid operator\"):\u001b[0m\n\u001b[0m                             ^\u001b[0m\n\u001b[0;31mSyntaxError\u001b[0m\u001b[0;31m:\u001b[0m invalid syntax\n"
          ]
        }
      ]
    },
    {
      "cell_type": "code",
      "source": [
        "def catch(item:str= \"ball\"):\n",
        " print(\"catched!!!\")\n",
        "\n",
        "return\"⚽\""
      ],
      "metadata": {
        "id": "v-coki9D-IzC"
      },
      "execution_count": 59,
      "outputs": []
    },
    {
      "cell_type": "code",
      "source": [
        "bag = catch()\n",
        "print(bag)"
      ],
      "metadata": {
        "colab": {
          "base_uri": "https://localhost:8080/"
        },
        "id": "jJmxS-IPBKM9",
        "outputId": "34612165-d987-461b-cc5d-01c3aaaf8007"
      },
      "execution_count": 61,
      "outputs": [
        {
          "output_type": "stream",
          "name": "stdout",
          "text": [
            "catched!!!\n",
            "None\n"
          ]
        }
      ]
    }
  ]
}