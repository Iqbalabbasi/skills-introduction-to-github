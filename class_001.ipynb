{
  "nbformat": 4,
  "nbformat_minor": 0,
  "metadata": {
    "colab": {
      "provenance": [],
      "authorship_tag": "ABX9TyO/EfBwYtgPlDlaIt73kwpB",
      "include_colab_link": true
    },
    "kernelspec": {
      "name": "python3",
      "display_name": "Python 3"
    },
    "language_info": {
      "name": "python"
    }
  },
  "cells": [
    {
      "cell_type": "markdown",
      "metadata": {
        "id": "view-in-github",
        "colab_type": "text"
      },
      "source": [
        "<a href=\"https://colab.research.google.com/github/Iqbalabbasi/skills-introduction-to-github/blob/main/class_001.ipynb\" target=\"_parent\"><img src=\"https://colab.research.google.com/assets/colab-badge.svg\" alt=\"Open In Colab\"/></a>"
      ]
    },
    {
      "cell_type": "code",
      "execution_count": 3,
      "metadata": {
        "colab": {
          "base_uri": "https://localhost:8080/"
        },
        "id": "Sd3StWNgE1X2",
        "outputId": "401b5641-e7c2-4a10-ea7a-e1c3cce6d5ad"
      },
      "outputs": [
        {
          "output_type": "stream",
          "name": "stdout",
          "text": [
            "Hello world\n"
          ]
        }
      ],
      "source": [
        "print(\"Hello world\")"
      ]
    },
    {
      "cell_type": "code",
      "source": [
        "fav_celebrity = 'Hazrat Khadim Hussain Rizvi'\n",
        "\n",
        "print(fav_celebrity)"
      ],
      "metadata": {
        "colab": {
          "base_uri": "https://localhost:8080/"
        },
        "id": "YqXqbRwIIuWi",
        "outputId": "08592bab-d7a9-4c6d-d2b0-61f486b657b7"
      },
      "execution_count": 14,
      "outputs": [
        {
          "output_type": "stream",
          "name": "stdout",
          "text": [
            "Hazrat Khadim Hussain Rizvi\n"
          ]
        }
      ]
    },
    {
      "cell_type": "code",
      "source": [
        "fav_game = \"Pubg\"\n",
        "print(fav_game)"
      ],
      "metadata": {
        "colab": {
          "base_uri": "https://localhost:8080/"
        },
        "id": "ThWt_nsGWlK1",
        "outputId": "eecd426a-9532-45b9-bf9f-3f03e100359e"
      },
      "execution_count": 16,
      "outputs": [
        {
          "output_type": "stream",
          "name": "stdout",
          "text": [
            "Pubg\n"
          ]
        }
      ]
    },
    {
      "cell_type": "code",
      "source": [
        "fav_food = \"Biryani\"\n",
        "print(fav_food)"
      ],
      "metadata": {
        "colab": {
          "base_uri": "https://localhost:8080/"
        },
        "id": "XTPCsUOiWyh1",
        "outputId": "74d82b39-e6d6-44c8-c2c8-29d2558acdb1"
      },
      "execution_count": 18,
      "outputs": [
        {
          "output_type": "stream",
          "name": "stdout",
          "text": [
            "Biryani\n"
          ]
        }
      ]
    }
  ]
}