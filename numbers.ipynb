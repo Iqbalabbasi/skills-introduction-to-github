{
  "nbformat": 4,
  "nbformat_minor": 0,
  "metadata": {
    "colab": {
      "provenance": [],
      "authorship_tag": "ABX9TyM817APE1Au9Npbul8QW0R6",
      "include_colab_link": true
    },
    "kernelspec": {
      "name": "python3",
      "display_name": "Python 3"
    },
    "language_info": {
      "name": "python"
    }
  },
  "cells": [
    {
      "cell_type": "markdown",
      "metadata": {
        "id": "view-in-github",
        "colab_type": "text"
      },
      "source": [
        "<a href=\"https://colab.research.google.com/github/Iqbalabbasi/skills-introduction-to-github/blob/main/numbers.ipynb\" target=\"_parent\"><img src=\"https://colab.research.google.com/assets/colab-badge.svg\" alt=\"Open In Colab\"/></a>"
      ]
    },
    {
      "cell_type": "code",
      "execution_count": 3,
      "metadata": {
        "colab": {
          "base_uri": "https://localhost:8080/"
        },
        "id": "PLO7wfFu60ac",
        "outputId": "3ba6c37f-76f9-4225-afb0-579da789fb28"
      },
      "outputs": [
        {
          "output_type": "stream",
          "name": "stdout",
          "text": [
            "11\n",
            "8\n",
            "12\n",
            "20\n",
            "5.0\n",
            "100\n",
            "5\n",
            "0\n"
          ]
        }
      ],
      "source": [
        "num1 = 2\n",
        "num2 = 10\n",
        "num3 = 22\n",
        "print(num1 - num2 * 2 + num3 + (5 + 2))\n",
        "print(num2 - num1)\n",
        "print(num2 + num1)\n",
        "print(num2 * num1)\n",
        "print(num2 / num1)\n",
        "print(num2 ** num1)\n",
        "print(num2 // num1)\n",
        "print(num2 % num1)"
      ]
    }
  ]
}