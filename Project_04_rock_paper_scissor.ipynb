{
  "nbformat": 4,
  "nbformat_minor": 0,
  "metadata": {
    "colab": {
      "provenance": [],
      "authorship_tag": "ABX9TyNwpQPHFk9paIsu4U7DcAas",
      "include_colab_link": true
    },
    "kernelspec": {
      "name": "python3",
      "display_name": "Python 3"
    },
    "language_info": {
      "name": "python"
    }
  },
  "cells": [
    {
      "cell_type": "markdown",
      "metadata": {
        "id": "view-in-github",
        "colab_type": "text"
      },
      "source": [
        "<a href=\"https://colab.research.google.com/github/Iqbalabbasi/skills-introduction-to-github/blob/main/Project_04_rock_paper_scissor.ipynb\" target=\"_parent\"><img src=\"https://colab.research.google.com/assets/colab-badge.svg\" alt=\"Open In Colab\"/></a>"
      ]
    },
    {
      "cell_type": "code",
      "execution_count": null,
      "metadata": {
        "id": "V2kOt2sJRwwE"
      },
      "outputs": [],
      "source": [
        "import random\n",
        "\n",
        "class MyRockPaperScissors:\n",
        "    def __init__(self):\n",
        "        self.options = [\"rock\", \"paper\", \"scissors\"]  # list of choices\n",
        "\n",
        "    def pick_computer(self):\n",
        "        return random.choice(self.options)  #Computerpicks one\n",
        "\n",
        "    def who_wins(self, my_pick, comp_pick):\n",
        "        if my_pick == comp_pick:\n",
        "            return \"We tied!\"\n",
        "        elif (my_pick == \"rock\" and comp_pick == \"scissors\") or \\\n",
        "             (my_pick == \"scissors\" and comp_pick == \"paper\") or \\\n",
        "             (my_pick == \"paper\" and comp_pick == \"rock\"):\n",
        "            return \"I win!\"\n",
        "        else:\n",
        "            return \"Computer beats me!\"\n",
        "\n",
        "    def start_game(self):\n",
        "        print(\"Let’s play Rock, Paper, Scissors!\")\n",
        "        while True:\n",
        "            my_pick = input(\"Type rock, paper, scissors, or 'quit' to stop: \").lower()\n",
        "            if my_pick == \"quit\":\n",
        "                print(\"Game over, thanks for playing!\")\n",
        "                break\n",
        "            if my_pick not in self.options:\n",
        "                print(\"That’s not right, pick again.\")\n",
        "                continue\n",
        "\n",
        "            comp_pick = self.pick_computer()\n",
        "            print(\"Computer picked:\", comp_pick)\n",
        "            result = self.who_wins(my_pick, comp_pick)\n",
        "            print(result)\n",
        "            print(\"---\")\n",
        "\n",
        "game = MyRockPaperScissors()\n",
        "game.start_game()"
      ]
    }
  ]
}