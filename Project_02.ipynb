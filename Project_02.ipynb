{
  "nbformat": 4,
  "nbformat_minor": 0,
  "metadata": {
    "colab": {
      "provenance": [],
      "authorship_tag": "ABX9TyPGVA9BboFpcHJuMy+qYkf/",
      "include_colab_link": true
    },
    "kernelspec": {
      "name": "python3",
      "display_name": "Python 3"
    },
    "language_info": {
      "name": "python"
    }
  },
  "cells": [
    {
      "cell_type": "markdown",
      "metadata": {
        "id": "view-in-github",
        "colab_type": "text"
      },
      "source": [
        "<a href=\"https://colab.research.google.com/github/Iqbalabbasi/skills-introduction-to-github/blob/main/Project_02.ipynb\" target=\"_parent\"><img src=\"https://colab.research.google.com/assets/colab-badge.svg\" alt=\"Open In Colab\"/></a>"
      ]
    },
    {
      "cell_type": "code",
      "execution_count": null,
      "metadata": {
        "id": "9y7KJHopdRon"
      },
      "outputs": [],
      "source": [
        "user_input=int(input(\"enter your number\"))\n",
        "curr_value=user_input\n",
        "while curr_value < 100:\n",
        "  curr_value=curr_value*2\n",
        "  print(curr_value,end=\"\")\n",
        "  print()\n",
        "\n",
        "\n",
        "\n"
      ]
    }
  ]
}