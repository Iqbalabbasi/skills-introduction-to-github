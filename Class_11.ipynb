{
  "nbformat": 4,
  "nbformat_minor": 0,
  "metadata": {
    "colab": {
      "provenance": [],
      "authorship_tag": "ABX9TyNPuZ7xbJR1TvzIfj3u5sLb",
      "include_colab_link": true
    },
    "kernelspec": {
      "name": "python3",
      "display_name": "Python 3"
    },
    "language_info": {
      "name": "python"
    }
  },
  "cells": [
    {
      "cell_type": "markdown",
      "metadata": {
        "id": "view-in-github",
        "colab_type": "text"
      },
      "source": [
        "<a href=\"https://colab.research.google.com/github/Iqbalabbasi/skills-introduction-to-github/blob/main/Class_11.ipynb\" target=\"_parent\"><img src=\"https://colab.research.google.com/assets/colab-badge.svg\" alt=\"Open In Colab\"/></a>"
      ]
    },
    {
      "cell_type": "code",
      "execution_count": 34,
      "metadata": {
        "colab": {
          "base_uri": "https://localhost:8080/"
        },
        "id": "yl6YqTt-BJf3",
        "outputId": "8388c6d2-b146-4f82-fb96-d56b124bc66a"
      },
      "outputs": [
        {
          "output_type": "stream",
          "name": "stdout",
          "text": [
            "Hi,my name is Hamid and my age is 35\n"
          ]
        }
      ],
      "source": [
        "class Person:\n",
        "\n",
        "  def __init__(self, name, secret, age):\n",
        "    self.name = name\n",
        "    self.__secret = secret\n",
        "    self._age =age\n",
        "class Student(Person):\n",
        "   def introduce(self):\n",
        "     print(f\"Hi,my name is {self.name} and my age is {self._age}\")\n",
        "std1 = Student(\"Hamid\",\"scared of dark\",35)\n",
        "std1.introduce()"
      ]
    },
    {
      "cell_type": "code",
      "source": [
        "\n",
        "#Abstract class this short form is (ABC), abstract method\n",
        "class Shape(ABC):\n",
        "\n",
        " @abstractmethod\n",
        " def area(self):\n",
        "   pass\n",
        "\n",
        "class Circle(Shape):\n",
        " name:str=\"Circle\"\n",
        " radius:int\n",
        "\n",
        " def __init__(self, radius):\n",
        "   self. radius= radius\n",
        "\n",
        " def area(self):\n",
        "  print(3.14 * self.radius ** 2)\n",
        "\n",
        "c1= Circle(5)\n",
        "print(c1. area())"
      ],
      "metadata": {
        "colab": {
          "base_uri": "https://localhost:8080/"
        },
        "id": "gg94bF1CI0kd",
        "outputId": "3661edb0-6332-4eb4-e632-15f998f01ecb"
      },
      "execution_count": 55,
      "outputs": [
        {
          "output_type": "stream",
          "name": "stdout",
          "text": [
            "78.5\n",
            "None\n"
          ]
        }
      ]
    },
    {
      "cell_type": "code",
      "source": [
        "class Shape(ABC):"
      ],
      "metadata": {
        "id": "1xQUHb91OuPL"
      },
      "execution_count": null,
      "outputs": []
    }
  ]
}