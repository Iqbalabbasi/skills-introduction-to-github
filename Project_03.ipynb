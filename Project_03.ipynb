{
  "nbformat": 4,
  "nbformat_minor": 0,
  "metadata": {
    "colab": {
      "provenance": [],
      "authorship_tag": "ABX9TyNHsjRKWPErWCgDqgvhBghS",
      "include_colab_link": true
    },
    "kernelspec": {
      "name": "python3",
      "display_name": "Python 3"
    },
    "language_info": {
      "name": "python"
    }
  },
  "cells": [
    {
      "cell_type": "markdown",
      "metadata": {
        "id": "view-in-github",
        "colab_type": "text"
      },
      "source": [
        "<a href=\"https://colab.research.google.com/github/Iqbalabbasi/skills-introduction-to-github/blob/main/Project_03.ipynb\" target=\"_parent\"><img src=\"https://colab.research.google.com/assets/colab-badge.svg\" alt=\"Open In Colab\"/></a>"
      ]
    },
    {
      "cell_type": "code",
      "execution_count": 14,
      "metadata": {
        "colab": {
          "base_uri": "https://localhost:8080/"
        },
        "id": "XApZfR3ojN3k",
        "outputId": "b621ed8a-4be0-4857-9b35-fa31341e0074"
      },
      "outputs": [
        {
          "output_type": "stream",
          "name": "stdout",
          "text": [
            "write the number between 100 :5\n",
            "you are loser\n"
          ]
        }
      ],
      "source": [
        "user_input = int(input(\"write the number between 100 :\"))\n",
        "number = 50\n",
        "if number == user_input  :\n",
        " print('you are win:')\n",
        "elif user_input >100 :\n",
        "  print(\"write the number under the 100\" )\n",
        "else :\n",
        " print(\"you are loser\")\n",
        ""
      ]
    }
  ]
}